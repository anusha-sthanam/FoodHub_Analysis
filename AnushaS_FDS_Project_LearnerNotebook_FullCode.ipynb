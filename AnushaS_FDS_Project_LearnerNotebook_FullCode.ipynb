{
 "cells": [
  {
   "cell_type": "markdown",
   "metadata": {
    "id": "Gc8x8QimJY_H"
   },
   "source": [
    "# Project Foundations for Data Science: FoodHub Data Analysis\n",
    "\n",
    "**Marks: 40**"
   ]
  },
  {
   "cell_type": "markdown",
   "metadata": {
    "id": "mWLSyxtTcpWd"
   },
   "source": [
    "# Submitted by Anusha Sthanam"
   ]
  },
  {
   "cell_type": "markdown",
   "metadata": {
    "id": "NqikjkWwJY_L"
   },
   "source": [
    "### Context\n",
    "\n",
    "The number of restaurants in New York is increasing day by day. Lots of students and busy professionals rely on those restaurants due to their hectic lifestyles. Online food delivery service is a great option for them. It provides them with good food from their favorite restaurants. A food aggregator company FoodHub offers access to multiple restaurants through a single smartphone app.\n",
    "\n",
    "The app allows the restaurants to receive a direct online order from a customer. The app assigns a delivery person from the company to pick up the order after it is confirmed by the restaurant. The delivery person then uses the map to reach the restaurant and waits for the food package. Once the food package is handed over to the delivery person, he/she confirms the pick-up in the app and travels to the customer's location to deliver the food. The delivery person confirms the drop-off in the app after delivering the food package to the customer. The customer can rate the order in the app. The food aggregator earns money by collecting a fixed margin of the delivery order from the restaurants.\n",
    "\n",
    "### Objective\n",
    "\n",
    "The food aggregator company has stored the data of the different orders made by the registered customers in their online portal. They want to analyze the data to get a fair idea about the demand of different restaurants which will help them in enhancing their customer experience. Suppose you are hired as a Data Scientist in this company and the Data Science team has shared some of the key questions that need to be answered. Perform the data analysis to find answers to these questions that will help the company to improve the business.\n",
    "\n",
    "### Data Description\n",
    "\n",
    "The data contains the different data related to a food order. The detailed data dictionary is given below.\n",
    "\n",
    "### Data Dictionary\n",
    "\n",
    "* order_id: Unique ID of the order\n",
    "* customer_id: ID of the customer who ordered the food\n",
    "* restaurant_name: Name of the restaurant\n",
    "* cuisine_type: Cuisine ordered by the customer\n",
    "* cost: Cost of the order\n",
    "* day_of_the_week: Indicates whether the order is placed on a weekday or weekend (The weekday is from Monday to Friday and the weekend is Saturday and Sunday)\n",
    "* rating: Rating given by the customer out of 5\n",
    "* food_preparation_time: Time (in minutes) taken by the restaurant to prepare the food. This is calculated by taking the difference between the timestamps of the restaurant's order confirmation and the delivery person's pick-up confirmation.\n",
    "* delivery_time: Time (in minutes) taken by the delivery person to deliver the food package. This is calculated by taking the difference between the timestamps of the delivery person's pick-up confirmation and drop-off information"
   ]
  },
  {
   "cell_type": "markdown",
   "metadata": {
    "id": "cEtNUxNAJY_M"
   },
   "source": [
    "### Let us start by importing the required libraries"
   ]
  },
  {
   "cell_type": "code",
   "execution_count": 5,
   "metadata": {
    "executionInfo": {
     "elapsed": 1929,
     "status": "ok",
     "timestamp": 1718630117245,
     "user": {
      "displayName": "Anusha Sthanam",
      "userId": "09220688031413898614"
     },
     "user_tz": 240
    },
    "id": "u6PlpJAPJY_N"
   },
   "outputs": [],
   "source": [
    "# import libraries for data manipulation\n",
    "import numpy as np\n",
    "import pandas as pd\n",
    "\n",
    "# import libraries for data visualization\n",
    "import matplotlib.pyplot as plt\n",
    "import seaborn as sns"
   ]
  },
  {
   "cell_type": "markdown",
   "metadata": {
    "id": "AdracY0HJY_O"
   },
   "source": [
    "### Understanding the structure of the data"
   ]
  },
  {
   "cell_type": "code",
   "execution_count": 7,
   "metadata": {
    "colab": {
     "base_uri": "https://localhost:8080/"
    },
    "executionInfo": {
     "elapsed": 20066,
     "status": "ok",
     "timestamp": 1718630143486,
     "user": {
      "displayName": "Anusha Sthanam",
      "userId": "09220688031413898614"
     },
     "user_tz": 240
    },
    "id": "WBh2ZGB9kFhU",
    "outputId": "aa30e293-e145-407d-9911-90222347c30e"
   },
   "outputs": [],
   "source": [
    "#Let Colab access my google drive\n",
    "#from google.colab import drive\n",
    "#drive.mount('/content/drive')"
   ]
  },
  {
   "cell_type": "code",
   "execution_count": 8,
   "metadata": {
    "colab": {
     "base_uri": "https://localhost:8080/",
     "height": 258
    },
    "executionInfo": {
     "elapsed": 554,
     "status": "ok",
     "timestamp": 1718630147547,
     "user": {
      "displayName": "Anusha Sthanam",
      "userId": "09220688031413898614"
     },
     "user_tz": 240
    },
    "id": "GF01IZDbJY_O",
    "outputId": "6fe81684-7d5a-4f02-801a-71f1be8fb1e4",
    "scrolled": true
   },
   "outputs": [
    {
     "data": {
      "text/html": [
       "<div>\n",
       "<style scoped>\n",
       "    .dataframe tbody tr th:only-of-type {\n",
       "        vertical-align: middle;\n",
       "    }\n",
       "\n",
       "    .dataframe tbody tr th {\n",
       "        vertical-align: top;\n",
       "    }\n",
       "\n",
       "    .dataframe thead th {\n",
       "        text-align: right;\n",
       "    }\n",
       "</style>\n",
       "<table border=\"1\" class=\"dataframe\">\n",
       "  <thead>\n",
       "    <tr style=\"text-align: right;\">\n",
       "      <th></th>\n",
       "      <th>order_id</th>\n",
       "      <th>customer_id</th>\n",
       "      <th>restaurant_name</th>\n",
       "      <th>cuisine_type</th>\n",
       "      <th>cost_of_the_order</th>\n",
       "      <th>day_of_the_week</th>\n",
       "      <th>rating</th>\n",
       "      <th>food_preparation_time</th>\n",
       "      <th>delivery_time</th>\n",
       "    </tr>\n",
       "  </thead>\n",
       "  <tbody>\n",
       "    <tr>\n",
       "      <th>0</th>\n",
       "      <td>1477147</td>\n",
       "      <td>337525</td>\n",
       "      <td>Hangawi</td>\n",
       "      <td>Korean</td>\n",
       "      <td>30.75</td>\n",
       "      <td>Weekend</td>\n",
       "      <td>Not given</td>\n",
       "      <td>25</td>\n",
       "      <td>20</td>\n",
       "    </tr>\n",
       "    <tr>\n",
       "      <th>1</th>\n",
       "      <td>1477685</td>\n",
       "      <td>358141</td>\n",
       "      <td>Blue Ribbon Sushi Izakaya</td>\n",
       "      <td>Japanese</td>\n",
       "      <td>12.08</td>\n",
       "      <td>Weekend</td>\n",
       "      <td>Not given</td>\n",
       "      <td>25</td>\n",
       "      <td>23</td>\n",
       "    </tr>\n",
       "    <tr>\n",
       "      <th>2</th>\n",
       "      <td>1477070</td>\n",
       "      <td>66393</td>\n",
       "      <td>Cafe Habana</td>\n",
       "      <td>Mexican</td>\n",
       "      <td>12.23</td>\n",
       "      <td>Weekday</td>\n",
       "      <td>5</td>\n",
       "      <td>23</td>\n",
       "      <td>28</td>\n",
       "    </tr>\n",
       "    <tr>\n",
       "      <th>3</th>\n",
       "      <td>1477334</td>\n",
       "      <td>106968</td>\n",
       "      <td>Blue Ribbon Fried Chicken</td>\n",
       "      <td>American</td>\n",
       "      <td>29.20</td>\n",
       "      <td>Weekend</td>\n",
       "      <td>3</td>\n",
       "      <td>25</td>\n",
       "      <td>15</td>\n",
       "    </tr>\n",
       "    <tr>\n",
       "      <th>4</th>\n",
       "      <td>1478249</td>\n",
       "      <td>76942</td>\n",
       "      <td>Dirty Bird to Go</td>\n",
       "      <td>American</td>\n",
       "      <td>11.59</td>\n",
       "      <td>Weekday</td>\n",
       "      <td>4</td>\n",
       "      <td>25</td>\n",
       "      <td>24</td>\n",
       "    </tr>\n",
       "  </tbody>\n",
       "</table>\n",
       "</div>"
      ],
      "text/plain": [
       "   order_id  customer_id            restaurant_name cuisine_type  \\\n",
       "0   1477147       337525                    Hangawi       Korean   \n",
       "1   1477685       358141  Blue Ribbon Sushi Izakaya     Japanese   \n",
       "2   1477070        66393                Cafe Habana      Mexican   \n",
       "3   1477334       106968  Blue Ribbon Fried Chicken     American   \n",
       "4   1478249        76942           Dirty Bird to Go     American   \n",
       "\n",
       "   cost_of_the_order day_of_the_week     rating  food_preparation_time  \\\n",
       "0              30.75         Weekend  Not given                     25   \n",
       "1              12.08         Weekend  Not given                     25   \n",
       "2              12.23         Weekday          5                     23   \n",
       "3              29.20         Weekend          3                     25   \n",
       "4              11.59         Weekday          4                     25   \n",
       "\n",
       "   delivery_time  \n",
       "0             20  \n",
       "1             23  \n",
       "2             28  \n",
       "3             15  \n",
       "4             24  "
      ]
     },
     "execution_count": 8,
     "metadata": {},
     "output_type": "execute_result"
    }
   ],
   "source": [
    "# read the data using pandas library\n",
    "#df = pd.read_csv('/content/drive/MyDrive/foodhub_order.csv')\n",
    "df = pd.read_csv('foodhub_order.csv')\n",
    "df = df.replace([np.inf, -np.inf], np.nan)\n",
    "# returns the first 5 rows\n",
    "df.head()"
   ]
  },
  {
   "cell_type": "markdown",
   "metadata": {
    "id": "J_Y9aJDJJY_P"
   },
   "source": [
    "#### Observations:\n",
    "\n",
    "The DataFrame has 9 columns as mentioned in the Data Dictionary. Data in each row corresponds to the order placed by a customer."
   ]
  },
  {
   "cell_type": "markdown",
   "metadata": {
    "id": "c3kenV4vJY_Q"
   },
   "source": [
    "### **Question 1:** How many rows and columns are present in the data?"
   ]
  },
  {
   "cell_type": "code",
   "execution_count": 11,
   "metadata": {
    "colab": {
     "base_uri": "https://localhost:8080/"
    },
    "executionInfo": {
     "elapsed": 320,
     "status": "ok",
     "timestamp": 1718630159412,
     "user": {
      "displayName": "Anusha Sthanam",
      "userId": "09220688031413898614"
     },
     "user_tz": 240
    },
    "id": "Yvz5i-PhJY_Q",
    "outputId": "d0f2bf78-7a97-4b2e-8dd2-3e2095f2a6c8"
   },
   "outputs": [
    {
     "name": "stdout",
     "output_type": "stream",
     "text": [
      "There are 1898 rows and 9 columns in the data.\n"
     ]
    }
   ],
   "source": [
    "print(\"There are\", df.shape[0], 'rows and', df.shape[1], \"columns in the data.\")"
   ]
  },
  {
   "cell_type": "markdown",
   "metadata": {
    "id": "UsTNy3unJY_R"
   },
   "source": [
    "#### Observations:\n",
    "\n",
    "There are 1898 rows and 9 columns in the FoodHub_Order dataset."
   ]
  },
  {
   "cell_type": "markdown",
   "metadata": {
    "id": "jRXakVrUJY_R"
   },
   "source": [
    "### **Question 2:** What are the datatypes of the different columns in the dataset? (The info() function can be used)"
   ]
  },
  {
   "cell_type": "code",
   "execution_count": 14,
   "metadata": {
    "colab": {
     "base_uri": "https://localhost:8080/"
    },
    "executionInfo": {
     "elapsed": 3662,
     "status": "ok",
     "timestamp": 1718630179860,
     "user": {
      "displayName": "Anusha Sthanam",
      "userId": "09220688031413898614"
     },
     "user_tz": 240
    },
    "id": "Kp70Z0BNJY_R",
    "outputId": "7379a47c-869e-4724-88e8-d84d249fe7ce"
   },
   "outputs": [
    {
     "name": "stdout",
     "output_type": "stream",
     "text": [
      "<class 'pandas.core.frame.DataFrame'>\n",
      "RangeIndex: 1898 entries, 0 to 1897\n",
      "Data columns (total 9 columns):\n",
      " #   Column                 Non-Null Count  Dtype  \n",
      "---  ------                 --------------  -----  \n",
      " 0   order_id               1898 non-null   int64  \n",
      " 1   customer_id            1898 non-null   int64  \n",
      " 2   restaurant_name        1898 non-null   object \n",
      " 3   cuisine_type           1898 non-null   object \n",
      " 4   cost_of_the_order      1898 non-null   float64\n",
      " 5   day_of_the_week        1898 non-null   object \n",
      " 6   rating                 1898 non-null   object \n",
      " 7   food_preparation_time  1898 non-null   int64  \n",
      " 8   delivery_time          1898 non-null   int64  \n",
      "dtypes: float64(1), int64(4), object(4)\n",
      "memory usage: 133.6+ KB\n"
     ]
    }
   ],
   "source": [
    "df.info()"
   ]
  },
  {
   "cell_type": "markdown",
   "metadata": {
    "id": "WJes5GP2JY_S"
   },
   "source": [
    "#### Observations:\n",
    "\n",
    "The Dtype column in the result indicates the datatype of that particular column.\n",
    "\n",
    "\n",
    "*   There are 5 numerical columns in the data and 4 object type columns.\n",
    "\n"
   ]
  },
  {
   "cell_type": "markdown",
   "metadata": {
    "id": "pF_92MN6JY_S"
   },
   "source": [
    "### **Question 3:** Are there any missing values in the data? If yes, treat them using an appropriate method"
   ]
  },
  {
   "cell_type": "code",
   "execution_count": 17,
   "metadata": {
    "colab": {
     "base_uri": "https://localhost:8080/"
    },
    "executionInfo": {
     "elapsed": 434,
     "status": "ok",
     "timestamp": 1718630189828,
     "user": {
      "displayName": "Anusha Sthanam",
      "userId": "09220688031413898614"
     },
     "user_tz": 240
    },
    "id": "mEDIiT090ETs",
    "outputId": "569185f3-9317-4d96-f507-b63bdd25891e"
   },
   "outputs": [
    {
     "data": {
      "text/plain": [
       "order_id                 0\n",
       "customer_id              0\n",
       "restaurant_name          0\n",
       "cuisine_type             0\n",
       "cost_of_the_order        0\n",
       "day_of_the_week          0\n",
       "rating                   0\n",
       "food_preparation_time    0\n",
       "delivery_time            0\n",
       "dtype: int64"
      ]
     },
     "execution_count": 17,
     "metadata": {},
     "output_type": "execute_result"
    }
   ],
   "source": [
    "#This method checks all the missing values in the data\n",
    "df.isnull().sum()"
   ]
  },
  {
   "cell_type": "markdown",
   "metadata": {
    "id": "jDHT3vD1JY_S"
   },
   "source": [
    "#### Observations:\n",
    "There are no missing items. 0 indicates the number of null items for that particular column and we don't require any treatment."
   ]
  },
  {
   "cell_type": "markdown",
   "metadata": {
    "id": "MnJo7MWrJY_S"
   },
   "source": [
    "### **Question 4:** Check the statistical summary of the data. What is the minimum, average, and maximum time it takes for food to be prepared once an order is placed?"
   ]
  },
  {
   "cell_type": "code",
   "execution_count": 20,
   "metadata": {
    "colab": {
     "base_uri": "https://localhost:8080/",
     "height": 300
    },
    "executionInfo": {
     "elapsed": 434,
     "status": "ok",
     "timestamp": 1718632757733,
     "user": {
      "displayName": "Anusha Sthanam",
      "userId": "09220688031413898614"
     },
     "user_tz": 240
    },
    "id": "a_QpuMp5zzdc",
    "outputId": "4879605a-ab78-4661-d73f-43fb6ce84b3c"
   },
   "outputs": [
    {
     "data": {
      "text/html": [
       "<div>\n",
       "<style scoped>\n",
       "    .dataframe tbody tr th:only-of-type {\n",
       "        vertical-align: middle;\n",
       "    }\n",
       "\n",
       "    .dataframe tbody tr th {\n",
       "        vertical-align: top;\n",
       "    }\n",
       "\n",
       "    .dataframe thead th {\n",
       "        text-align: right;\n",
       "    }\n",
       "</style>\n",
       "<table border=\"1\" class=\"dataframe\">\n",
       "  <thead>\n",
       "    <tr style=\"text-align: right;\">\n",
       "      <th></th>\n",
       "      <th>count</th>\n",
       "      <th>mean</th>\n",
       "      <th>std</th>\n",
       "      <th>min</th>\n",
       "      <th>25%</th>\n",
       "      <th>50%</th>\n",
       "      <th>75%</th>\n",
       "      <th>max</th>\n",
       "    </tr>\n",
       "  </thead>\n",
       "  <tbody>\n",
       "    <tr>\n",
       "      <th>order_id</th>\n",
       "      <td>1898.00000</td>\n",
       "      <td>1477495.50000</td>\n",
       "      <td>548.04972</td>\n",
       "      <td>1476547.00000</td>\n",
       "      <td>1477021.25000</td>\n",
       "      <td>1477495.50000</td>\n",
       "      <td>1477969.75000</td>\n",
       "      <td>1478444.00000</td>\n",
       "    </tr>\n",
       "    <tr>\n",
       "      <th>customer_id</th>\n",
       "      <td>1898.00000</td>\n",
       "      <td>171168.47840</td>\n",
       "      <td>113698.13974</td>\n",
       "      <td>1311.00000</td>\n",
       "      <td>77787.75000</td>\n",
       "      <td>128600.00000</td>\n",
       "      <td>270525.00000</td>\n",
       "      <td>405334.00000</td>\n",
       "    </tr>\n",
       "    <tr>\n",
       "      <th>cost_of_the_order</th>\n",
       "      <td>1898.00000</td>\n",
       "      <td>16.49885</td>\n",
       "      <td>7.48381</td>\n",
       "      <td>4.47000</td>\n",
       "      <td>12.08000</td>\n",
       "      <td>14.14000</td>\n",
       "      <td>22.29750</td>\n",
       "      <td>35.41000</td>\n",
       "    </tr>\n",
       "    <tr>\n",
       "      <th>food_preparation_time</th>\n",
       "      <td>1898.00000</td>\n",
       "      <td>27.37197</td>\n",
       "      <td>4.63248</td>\n",
       "      <td>20.00000</td>\n",
       "      <td>23.00000</td>\n",
       "      <td>27.00000</td>\n",
       "      <td>31.00000</td>\n",
       "      <td>35.00000</td>\n",
       "    </tr>\n",
       "    <tr>\n",
       "      <th>delivery_time</th>\n",
       "      <td>1898.00000</td>\n",
       "      <td>24.16175</td>\n",
       "      <td>4.97264</td>\n",
       "      <td>15.00000</td>\n",
       "      <td>20.00000</td>\n",
       "      <td>25.00000</td>\n",
       "      <td>28.00000</td>\n",
       "      <td>33.00000</td>\n",
       "    </tr>\n",
       "  </tbody>\n",
       "</table>\n",
       "</div>"
      ],
      "text/plain": [
       "                            count           mean           std            min  \\\n",
       "order_id               1898.00000  1477495.50000     548.04972  1476547.00000   \n",
       "customer_id            1898.00000   171168.47840  113698.13974     1311.00000   \n",
       "cost_of_the_order      1898.00000       16.49885       7.48381        4.47000   \n",
       "food_preparation_time  1898.00000       27.37197       4.63248       20.00000   \n",
       "delivery_time          1898.00000       24.16175       4.97264       15.00000   \n",
       "\n",
       "                                 25%            50%            75%  \\\n",
       "order_id               1477021.25000  1477495.50000  1477969.75000   \n",
       "customer_id              77787.75000   128600.00000   270525.00000   \n",
       "cost_of_the_order           12.08000       14.14000       22.29750   \n",
       "food_preparation_time       23.00000       27.00000       31.00000   \n",
       "delivery_time               20.00000       25.00000       28.00000   \n",
       "\n",
       "                                 max  \n",
       "order_id               1478444.00000  \n",
       "customer_id             405334.00000  \n",
       "cost_of_the_order           35.41000  \n",
       "food_preparation_time       35.00000  \n",
       "delivery_time               33.00000  "
      ]
     },
     "execution_count": 20,
     "metadata": {},
     "output_type": "execute_result"
    }
   ],
   "source": [
    "#calculate descriptive statistics for numeric columns and suppress scientific notation\n",
    "df.describe().T.apply(lambda s: s.apply('{0:.5f}'.format))\n",
    "#We can also give df['food_preparation_time'].describe() for calculating the statistics information for column food_preparation_time"
   ]
  },
  {
   "cell_type": "markdown",
   "metadata": {
    "id": "9YbSOR5wJY_T"
   },
   "source": [
    "**Observations:**\n",
    "\n",
    "The describe method gives the statistical summary.\n",
    "\n",
    "\n",
    "*   The minimum time, it takes to prepare the food is 20 minutes.\n",
    "*   The average time, it takes to prepare the food is 27 minutes.\n",
    "*   The maximum time, it takes to prepare the food is 35 minutes.\n",
    "*   There is a standard deviation of 5 mins for the food delivery time.\n",
    "\n",
    "\n",
    "\n",
    "\n"
   ]
  },
  {
   "cell_type": "markdown",
   "metadata": {
    "id": "cw3l58z_JY_T"
   },
   "source": [
    "### **Question 5:** How many orders are not rated?"
   ]
  },
  {
   "cell_type": "code",
   "execution_count": 23,
   "metadata": {
    "colab": {
     "base_uri": "https://localhost:8080/"
    },
    "executionInfo": {
     "elapsed": 252,
     "status": "ok",
     "timestamp": 1718630262825,
     "user": {
      "displayName": "Anusha Sthanam",
      "userId": "09220688031413898614"
     },
     "user_tz": 240
    },
    "id": "hEzDUL9wgksi",
    "outputId": "8e1602fd-a437-4646-827d-9458e86ea83f"
   },
   "outputs": [
    {
     "data": {
      "text/plain": [
       "rating\n",
       "Not given    736\n",
       "5            588\n",
       "4            386\n",
       "3            188\n",
       "Name: count, dtype: int64"
      ]
     },
     "execution_count": 23,
     "metadata": {},
     "output_type": "execute_result"
    }
   ],
   "source": [
    "#Value_counts gives the total count of each  rating.\n",
    "df['rating'].value_counts()"
   ]
  },
  {
   "cell_type": "markdown",
   "metadata": {
    "id": "5E0O_oviJY_T"
   },
   "source": [
    "**Observations:**\n",
    "\n",
    "There are total of 736 orders, which are not given any rating.\n"
   ]
  },
  {
   "cell_type": "markdown",
   "metadata": {
    "id": "7msIfXE-JY_T"
   },
   "source": [
    "### Exploratory Data Analysis (EDA)"
   ]
  },
  {
   "cell_type": "markdown",
   "metadata": {
    "id": "-2xfI28YJY_T"
   },
   "source": [
    "### Univariate Analysis"
   ]
  },
  {
   "cell_type": "markdown",
   "metadata": {
    "id": "0RHZnugBJY_U"
   },
   "source": [
    "### **Question 6:** Explore all the variables and provide observations on their distributions. (Generally, histograms, boxplots, countplots, etc. are used for univariate exploration)"
   ]
  },
  {
   "cell_type": "markdown",
   "metadata": {
    "id": "WaBT8ZI0iCDe"
   },
   "source": [
    "**# Customers**"
   ]
  },
  {
   "cell_type": "code",
   "execution_count": 29,
   "metadata": {
    "colab": {
     "base_uri": "https://localhost:8080/"
    },
    "executionInfo": {
     "elapsed": 226,
     "status": "ok",
     "timestamp": 1718633316479,
     "user": {
      "displayName": "Anusha Sthanam",
      "userId": "09220688031413898614"
     },
     "user_tz": 240
    },
    "id": "33F_vPvJf4sA",
    "outputId": "575f26f0-84b9-4829-d1e2-ab4fbc69aefc"
   },
   "outputs": [
    {
     "name": "stdout",
     "output_type": "stream",
     "text": [
      "There are total 1200 customers.\n"
     ]
    }
   ],
   "source": [
    "#Find the unique Customers\n",
    "print('There are total' , df['customer_id'].nunique(), 'customers.')"
   ]
  },
  {
   "cell_type": "markdown",
   "metadata": {
    "id": "fL3vYKKoiIRF"
   },
   "source": [
    "**# Total Orders**"
   ]
  },
  {
   "cell_type": "code",
   "execution_count": 31,
   "metadata": {
    "colab": {
     "base_uri": "https://localhost:8080/"
    },
    "executionInfo": {
     "elapsed": 202,
     "status": "ok",
     "timestamp": 1718633204860,
     "user": {
      "displayName": "Anusha Sthanam",
      "userId": "09220688031413898614"
     },
     "user_tz": 240
    },
    "id": "9mWta5qt9AND",
    "outputId": "2ac8c62d-573a-45f3-d8bd-6df63088d2e4"
   },
   "outputs": [
    {
     "name": "stdout",
     "output_type": "stream",
     "text": [
      "Total Orders received are  1898\n"
     ]
    }
   ],
   "source": [
    "#Find the total orders received\n",
    "print('Total Orders received are ', df['order_id'].count())"
   ]
  },
  {
   "cell_type": "code",
   "execution_count": 32,
   "metadata": {
    "colab": {
     "base_uri": "https://localhost:8080/"
    },
    "executionInfo": {
     "elapsed": 237,
     "status": "ok",
     "timestamp": 1718634835646,
     "user": {
      "displayName": "Anusha Sthanam",
      "userId": "09220688031413898614"
     },
     "user_tz": 240
    },
    "id": "AV4VL56CnaYT",
    "outputId": "185140e9-0c99-4110-e30c-cdb292083e61"
   },
   "outputs": [
    {
     "name": "stdout",
     "output_type": "stream",
     "text": [
      "Total orders distributed  day_of_the_week\n",
      "Weekend    1351\n",
      "Weekday     547\n",
      "Name: count, dtype: int64 for the days.\n"
     ]
    }
   ],
   "source": [
    "#Find the total orders for Weekends/Weekdays\n",
    "print('Total orders distributed ',df['day_of_the_week'].value_counts(), 'for the days.')"
   ]
  },
  {
   "cell_type": "markdown",
   "metadata": {
    "id": "dN3w7FP4iME-"
   },
   "source": [
    "**# Total Restaurants**"
   ]
  },
  {
   "cell_type": "code",
   "execution_count": 34,
   "metadata": {
    "colab": {
     "base_uri": "https://localhost:8080/"
    },
    "executionInfo": {
     "elapsed": 11,
     "status": "ok",
     "timestamp": 1718630635116,
     "user": {
      "displayName": "Anusha Sthanam",
      "userId": "09220688031413898614"
     },
     "user_tz": 240
    },
    "id": "z_Gl0vs69RD9",
    "outputId": "c4e6e344-a47b-4f5f-fad0-8087cf22c272"
   },
   "outputs": [
    {
     "name": "stdout",
     "output_type": "stream",
     "text": [
      "There are total 178 restaurants.\n"
     ]
    }
   ],
   "source": [
    "#Find the total restaurants\n",
    "print('There are total', df['restaurant_name'].nunique(), 'restaurants.')"
   ]
  },
  {
   "cell_type": "markdown",
   "metadata": {
    "id": "jJOXbgREiRBa"
   },
   "source": [
    "**# Total Cuisines**"
   ]
  },
  {
   "cell_type": "code",
   "execution_count": 36,
   "metadata": {
    "colab": {
     "base_uri": "https://localhost:8080/"
    },
    "executionInfo": {
     "elapsed": 219,
     "status": "ok",
     "timestamp": 1718633363678,
     "user": {
      "displayName": "Anusha Sthanam",
      "userId": "09220688031413898614"
     },
     "user_tz": 240
    },
    "id": "T4Q88NCPgdfS",
    "outputId": "2907b8e3-caf9-4c3c-e4ee-eb5073d93cc8"
   },
   "outputs": [
    {
     "name": "stdout",
     "output_type": "stream",
     "text": [
      "There are total of  14 cuisine types.\n"
     ]
    }
   ],
   "source": [
    "#Find the unique cuisine types\n",
    "print('There are total of ', df['cuisine_type'].nunique(), 'cuisine types.')"
   ]
  },
  {
   "cell_type": "markdown",
   "metadata": {
    "id": "s7IJ7-3G3SH0"
   },
   "source": [
    "**Let's explore the distributions for numerical columns like food_preparation_time, delivery_time etc.**"
   ]
  },
  {
   "cell_type": "code",
   "execution_count": 38,
   "metadata": {
    "colab": {
     "base_uri": "https://localhost:8080/",
     "height": 942
    },
    "executionInfo": {
     "elapsed": 1607,
     "status": "ok",
     "timestamp": 1718633859789,
     "user": {
      "displayName": "Anusha Sthanam",
      "userId": "09220688031413898614"
     },
     "user_tz": 240
    },
    "id": "rU5ZqISjJY_U",
    "outputId": "ccf77432-5645-483f-fccb-cd2a66e988f7"
   },
   "outputs": [
    {
     "name": "stderr",
     "output_type": "stream",
     "text": [
      "C:\\Users\\anush\\anaconda3\\Lib\\site-packages\\seaborn\\_oldcore.py:1119: FutureWarning: use_inf_as_na option is deprecated and will be removed in a future version. Convert inf values to NaN before operating instead.\n",
      "  with pd.option_context('mode.use_inf_as_na', True):\n"
     ]
    },
    {
     "data": {
      "image/png": "[encoded data removed]",
      "text/plain": [
       "<Figure size 1000x500 with 1 Axes>"
      ]
     },
     "metadata": {},
     "output_type": "display_data"
    }
   ],
   "source": [
    "#Analysing the Food preparation time.\n",
    "plt.figure(figsize=(10,5))\n",
    "plt.title('Histogram:Food Preparation Time')\n",
    "plt.xlabel('Food Preparation')\n",
    "plt.ylabel('Density')\n",
    "sns.histplot(data=df, x='food_preparation_time');\n",
    "plt.show()"
   ]
  },
  {
   "cell_type": "code",
   "execution_count": 39,
   "metadata": {},
   "outputs": [
    {
     "data": {
      "image/png": "[encoded data removed]",
      "text/plain": [
       "<Figure size 640x480 with 1 Axes>"
      ]
     },
     "metadata": {},
     "output_type": "display_data"
    }
   ],
   "source": [
    "plt.title('Boxplot:Food Preparation Time')\n",
    "plt.xlabel('Food Preparation')\n",
    "sns.boxplot(data=df,x='food_preparation_time', color='orange')\n",
    "plt.show()"
   ]
  },
  {
   "cell_type": "markdown",
   "metadata": {
    "id": "e_ffIbCN4U9Z"
   },
   "source": [
    "**Observations**\n",
    "\n",
    "*   There are no Outliers in the data\n",
    "*   The data is very uniform and median is at 27 mins.\n",
    "\n"
   ]
  },
  {
   "cell_type": "code",
   "execution_count": 41,
   "metadata": {
    "colab": {
     "base_uri": "https://localhost:8080/",
     "height": 942
    },
    "executionInfo": {
     "elapsed": 689,
     "status": "ok",
     "timestamp": 1718633929934,
     "user": {
      "displayName": "Anusha Sthanam",
      "userId": "09220688031413898614"
     },
     "user_tz": 240
    },
    "id": "nH-eDc4s45Wy",
    "outputId": "3989ec3b-8580-4ee9-cf98-5d201849ca62"
   },
   "outputs": [
    {
     "name": "stderr",
     "output_type": "stream",
     "text": [
      "C:\\Users\\anush\\anaconda3\\Lib\\site-packages\\seaborn\\_oldcore.py:1119: FutureWarning: use_inf_as_na option is deprecated and will be removed in a future version. Convert inf values to NaN before operating instead.\n",
      "  with pd.option_context('mode.use_inf_as_na', True):\n"
     ]
    },
    {
     "data": {
      "image/png": "[encoded data removed]",
      "text/plain": [
       "<Figure size 1000x500 with 1 Axes>"
      ]
     },
     "metadata": {},
     "output_type": "display_data"
    }
   ],
   "source": [
    "#Analysing the Food delivery time.\n",
    "plt.figure(figsize=(10,5))\n",
    "plt.title('Histogram:Food Delivery Time')\n",
    "plt.xlabel('Food Delivery')\n",
    "plt.ylabel('Density')\n",
    "sns.histplot(data=df,x='delivery_time',stat='density', color='yellow');\n",
    "plt.show()"
   ]
  },
  {
   "cell_type": "code",
   "execution_count": 42,
   "metadata": {},
   "outputs": [
    {
     "data": {
      "image/png": "[encoded data removed]",
      "text/plain": [
       "<Figure size 640x480 with 1 Axes>"
      ]
     },
     "metadata": {},
     "output_type": "display_data"
    }
   ],
   "source": [
    "plt.title('Boxplot:Food Delivery Time')\n",
    "plt.xlabel('Food Delivery')\n",
    "sns.boxplot(data=df,x='delivery_time', color='orange')\n",
    "plt.show()"
   ]
  },
  {
   "cell_type": "markdown",
   "metadata": {
    "id": "xXFm80MC51xB"
   },
   "source": [
    "**Observations**\n",
    "\n",
    "*   The distribution is skewed towards left.\n",
    "*   There are no outliers present in this column.\n",
    "*   The median delivery time for the orders is 25 mins, 1st quartile and\n",
    "    3rd quartile delivery times are 20 and 28 mins respectively\n",
    "\n",
    "\n",
    "\n"
   ]
  },
  {
   "cell_type": "code",
   "execution_count": 44,
   "metadata": {
    "colab": {
     "base_uri": "https://localhost:8080/",
     "height": 927
    },
    "executionInfo": {
     "elapsed": 630,
     "status": "ok",
     "timestamp": 1718634073527,
     "user": {
      "displayName": "Anusha Sthanam",
      "userId": "09220688031413898614"
     },
     "user_tz": 240
    },
    "id": "-oqT0xEO-MwB",
    "outputId": "9d61d2c9-7f60-4aff-ded2-46c2ca163fca"
   },
   "outputs": [
    {
     "name": "stderr",
     "output_type": "stream",
     "text": [
      "C:\\Users\\anush\\anaconda3\\Lib\\site-packages\\seaborn\\_oldcore.py:1119: FutureWarning: use_inf_as_na option is deprecated and will be removed in a future version. Convert inf values to NaN before operating instead.\n",
      "  with pd.option_context('mode.use_inf_as_na', True):\n"
     ]
    },
    {
     "data": {
      "image/png": "[encoded data removed]",
      "text/plain": [
       "<Figure size 640x480 with 1 Axes>"
      ]
     },
     "metadata": {},
     "output_type": "display_data"
    }
   ],
   "source": [
    "#Plot the distribution for cost of the orders\n",
    "sns.histplot(data=df,x='cost_of_the_order',stat='density', kde=True, color='teal')\n",
    "plt.title('Histogram:Cost of the Order')\n",
    "plt.xlabel('Cost of the Order')\n",
    "plt.ylabel('Density')\n",
    "plt.show()"
   ]
  },
  {
   "cell_type": "code",
   "execution_count": 45,
   "metadata": {},
   "outputs": [
    {
     "data": {
      "image/png": "[encoded data removed]",
      "text/plain": [
       "<Figure size 640x480 with 1 Axes>"
      ]
     },
     "metadata": {},
     "output_type": "display_data"
    }
   ],
   "source": [
    "plt.title('Boxplot:Cost of the Order')\n",
    "plt.xlabel('Cost of the Order')\n",
    "sns.boxplot(data=df,x='cost_of_the_order', color='orange')\n",
    "plt.show()"
   ]
  },
  {
   "cell_type": "markdown",
   "metadata": {
    "id": "4hMemb-l-mTP"
   },
   "source": [
    "**Observations**\n",
    "\n",
    "*   There are no outliers for the data\n",
    "*   The median cost of the order is 14$\n",
    "*   The distribution is right skewed\n",
    "\n"
   ]
  },
  {
   "cell_type": "markdown",
   "metadata": {
    "id": "Knz_7y1O_Ng6"
   },
   "source": [
    "Lets explore the distribution for categorical columns like ratings, cuisine type, restuarants etc."
   ]
  },
  {
   "cell_type": "code",
   "execution_count": 48,
   "metadata": {
    "colab": {
     "base_uri": "https://localhost:8080/",
     "height": 467
    },
    "executionInfo": {
     "elapsed": 814,
     "status": "ok",
     "timestamp": 1718634351602,
     "user": {
      "displayName": "Anusha Sthanam",
      "userId": "09220688031413898614"
     },
     "user_tz": 240
    },
    "id": "7Vn_IDUKljAi",
    "outputId": "fc006c1e-a5d5-4b96-d2c4-1ed3c19cb46a"
   },
   "outputs": [
    {
     "data": {
      "text/plain": [
       "<Axes: xlabel='day_of_the_week', ylabel='count'>"
      ]
     },
     "execution_count": 48,
     "metadata": {},
     "output_type": "execute_result"
    },
    {
     "data": {
      "image/png": "[encoded data removed]",
      "text/plain": [
       "<Figure size 640x480 with 1 Axes>"
      ]
     },
     "metadata": {},
     "output_type": "display_data"
    }
   ],
   "source": [
    "#Distribution for the day of the week\n",
    "sns.countplot(data = df, x = 'day_of_the_week')"
   ]
  },
  {
   "cell_type": "markdown",
   "metadata": {
    "id": "w1e1z2Tel88f"
   },
   "source": [
    "**Observations**\n",
    "\n",
    "\n",
    "*   It clearly signifies that there are more orders over the weekend than the weekday\n",
    "\n"
   ]
  },
  {
   "cell_type": "code",
   "execution_count": 50,
   "metadata": {
    "colab": {
     "base_uri": "https://localhost:8080/",
     "height": 576
    },
    "executionInfo": {
     "elapsed": 467,
     "status": "ok",
     "timestamp": 1718634934851,
     "user": {
      "displayName": "Anusha Sthanam",
      "userId": "09220688031413898614"
     },
     "user_tz": 240
    },
    "id": "ZN9ikitPA95i",
    "outputId": "37b7df60-2566-4ff9-cebc-e1bc6026c8de"
   },
   "outputs": [
    {
     "data": {
      "image/png": "[encoded data removed]",
      "text/plain": [
       "<Figure size 1000x500 with 1 Axes>"
      ]
     },
     "metadata": {},
     "output_type": "display_data"
    }
   ],
   "source": [
    "#Plot the distribution for cuisine types.\n",
    "plt.figure(figsize=(10,5))\n",
    "sns.countplot(data=df,x='cuisine_type', color='teal')\n",
    "plt.title('Countplot:Cuisine Type')\n",
    "plt.xlabel('Cuisine Type')\n",
    "plt.ylabel('Frequency')\n",
    "plt.xticks(rotation=90)\n",
    "plt.show()"
   ]
  },
  {
   "cell_type": "markdown",
   "metadata": {
    "id": "mASdljgZBXRq"
   },
   "source": [
    "**Observations**\n",
    "The popular cuisine types are American, Japanese, Italian and Chinese respectively."
   ]
  },
  {
   "cell_type": "code",
   "execution_count": 52,
   "metadata": {
    "colab": {
     "base_uri": "https://localhost:8080/",
     "height": 554
    },
    "executionInfo": {
     "elapsed": 690,
     "status": "ok",
     "timestamp": 1718634527078,
     "user": {
      "displayName": "Anusha Sthanam",
      "userId": "09220688031413898614"
     },
     "user_tz": 240
    },
    "id": "NYdn-rz9mSYV",
    "outputId": "184b6d5b-f27f-4736-c687-312a814de3c1"
   },
   "outputs": [
    {
     "data": {
      "image/png": "[encoded data removed]",
      "text/plain": [
       "<Figure size 1000x500 with 1 Axes>"
      ]
     },
     "metadata": {},
     "output_type": "display_data"
    }
   ],
   "source": [
    "#Generate Bargraph for the cuisine type for days\n",
    "plt.figure(figsize=(10,5))\n",
    "sns.countplot(data=df,x='cuisine_type',hue='day_of_the_week')\n",
    "plt.xticks(rotation=90)\n",
    "plt.show()"
   ]
  },
  {
   "cell_type": "markdown",
   "metadata": {
    "id": "j1ElfGgVmeie"
   },
   "source": [
    "**Observations**\n",
    "\n",
    "*   Most of the cuisines have more orders over the weekends.\n",
    "*   American, Japanese, Italian and Chinese are the most popular cuisines over the weekends as well as weekdays.\n",
    "\n"
   ]
  },
  {
   "cell_type": "code",
   "execution_count": 54,
   "metadata": {
    "colab": {
     "base_uri": "https://localhost:8080/",
     "height": 472
    },
    "executionInfo": {
     "elapsed": 544,
     "status": "ok",
     "timestamp": 1718634894725,
     "user": {
      "displayName": "Anusha Sthanam",
      "userId": "09220688031413898614"
     },
     "user_tz": 240
    },
    "id": "bB5pWyTR_M9u",
    "outputId": "4476274d-499f-4004-e716-5d25f1da5425"
   },
   "outputs": [
    {
     "data": {
      "image/png": "[encoded data removed]",
      "text/plain": [
       "<Figure size 640x480 with 1 Axes>"
      ]
     },
     "metadata": {},
     "output_type": "display_data"
    }
   ],
   "source": [
    "#distribution for count of ratings\n",
    "sns.countplot(data=df,x='rating', color='teal')\n",
    "plt.title('Countplot:Ratings')\n",
    "plt.xlabel('Ratings')\n",
    "plt.ylabel('Frequency')\n",
    "plt.show()"
   ]
  },
  {
   "cell_type": "markdown",
   "metadata": {
    "id": "Psiz_qd7_xdy"
   },
   "source": [
    "*  There are more than 700 orders, i.e 736 orders for which are not given any rating.\n",
    "*  Customers close to 600, have given 5 star rating for the service."
   ]
  },
  {
   "cell_type": "markdown",
   "metadata": {
    "id": "K9CqA5H_JY_U"
   },
   "source": [
    "### **Question 7**: Which are the top 5 restaurants in terms of the number of orders received?"
   ]
  },
  {
   "cell_type": "code",
   "execution_count": 57,
   "metadata": {
    "colab": {
     "base_uri": "https://localhost:8080/"
    },
    "executionInfo": {
     "elapsed": 240,
     "status": "ok",
     "timestamp": 1718630882613,
     "user": {
      "displayName": "Anusha Sthanam",
      "userId": "09220688031413898614"
     },
     "user_tz": 240
    },
    "id": "PaJZ3wlOJY_U",
    "outputId": "a7a81004-43a2-41c8-9974-3e826a3830dc"
   },
   "outputs": [
    {
     "data": {
      "text/plain": [
       "restaurant_name\n",
       "Shake Shack                  219\n",
       "The Meatball Shop            132\n",
       "Blue Ribbon Sushi            119\n",
       "Blue Ribbon Fried Chicken     96\n",
       "Parm                          68\n",
       "Name: count, dtype: int64"
      ]
     },
     "execution_count": 57,
     "metadata": {},
     "output_type": "execute_result"
    }
   ],
   "source": [
    "# Top 5 restaurants with respect to the number of orders received.\n",
    "df['restaurant_name'].value_counts().head()"
   ]
  },
  {
   "cell_type": "markdown",
   "metadata": {
    "id": "tnjhWgUfJY_U"
   },
   "source": [
    "#### Observations:\n",
    "\n",
    "These are the popular restaurants, based on the number of orders received.\n"
   ]
  },
  {
   "cell_type": "markdown",
   "metadata": {
    "id": "gWPMqGq0JY_U"
   },
   "source": [
    "### **Question 8**: Which is the most popular cuisine on weekends?"
   ]
  },
  {
   "cell_type": "code",
   "execution_count": 60,
   "metadata": {
    "colab": {
     "base_uri": "https://localhost:8080/"
    },
    "executionInfo": {
     "elapsed": 257,
     "status": "ok",
     "timestamp": 1718630896786,
     "user": {
      "displayName": "Anusha Sthanam",
      "userId": "09220688031413898614"
     },
     "user_tz": 240
    },
    "id": "c-Xnus3VJY_U",
    "outputId": "1d17695f-69f3-407c-e528-f32d8a67932a"
   },
   "outputs": [
    {
     "data": {
      "text/plain": [
       "cuisine_type\n",
       "American    415\n",
       "Japanese    335\n",
       "Italian     207\n",
       "Chinese     163\n",
       "Mexican      53\n",
       "Name: count, dtype: int64"
      ]
     },
     "execution_count": 60,
     "metadata": {},
     "output_type": "execute_result"
    }
   ],
   "source": [
    "#Find the popular cuisine on the weekends\n",
    "\n",
    "df_weekend = df[df['day_of_the_week'] == 'Weekend']\n",
    "df_weekend['cuisine_type'].value_counts().head()"
   ]
  },
  {
   "cell_type": "markdown",
   "metadata": {
    "id": "bpQ270TUJY_U"
   },
   "source": [
    "#### Observations:\n",
    "\n",
    "So Far, American cuisine is the leading or most popular cuisine over the weekends."
   ]
  },
  {
   "cell_type": "markdown",
   "metadata": {
    "id": "88xgTqkxJY_U"
   },
   "source": [
    "### **Question 9**: What percentage of the orders cost more than 20 dollars?"
   ]
  },
  {
   "cell_type": "code",
   "execution_count": 63,
   "metadata": {
    "colab": {
     "base_uri": "https://localhost:8080/"
    },
    "executionInfo": {
     "elapsed": 8,
     "status": "ok",
     "timestamp": 1718557390740,
     "user": {
      "displayName": "Anusha Sthanam",
      "userId": "09220688031413898614"
     },
     "user_tz": 240
    },
    "id": "OTpHyTdzJY_U",
    "outputId": "7dfe8b9b-b16f-4f59-eeb8-f198a0ada77e"
   },
   "outputs": [
    {
     "name": "stdout",
     "output_type": "stream",
     "text": [
      "There are total 555 orders, costing more than 20 dollars.\n",
      "The percentage of orders, costing more than 20 dollars is 29.24 %\n"
     ]
    }
   ],
   "source": [
    "#Find the percentage of orders, costing more than 20 dollars\n",
    "df_cost = df[df['cost_of_the_order'] > 20]\n",
    "df_percentage = df_cost['order_id'].count()/df.shape[0]*100\n",
    "\n",
    "print('There are total', df_cost.shape[0], 'orders, costing more than 20 dollars.')\n",
    "print('The percentage of orders, costing more than 20 dollars is', round(df_percentage,2), '%')"
   ]
  },
  {
   "cell_type": "markdown",
   "metadata": {
    "id": "HFyHn7hsJY_V"
   },
   "source": [
    "### **Question 10**: What is the mean order delivery time?"
   ]
  },
  {
   "cell_type": "code",
   "execution_count": 65,
   "metadata": {
    "colab": {
     "base_uri": "https://localhost:8080/"
    },
    "executionInfo": {
     "elapsed": 4,
     "status": "ok",
     "timestamp": 1718635522746,
     "user": {
      "displayName": "Anusha Sthanam",
      "userId": "09220688031413898614"
     },
     "user_tz": 240
    },
    "id": "cyFL13hNJY_V",
    "outputId": "916313a3-60db-4d1a-dfe5-d51e991fe50f"
   },
   "outputs": [
    {
     "name": "stdout",
     "output_type": "stream",
     "text": [
      "The average delivery time for the orders is 24.16 mins.\n"
     ]
    }
   ],
   "source": [
    "# Find the mean order Delivery time\n",
    "print('The average delivery time for the orders is', round(df['delivery_time'].mean(),2), 'mins.')"
   ]
  },
  {
   "cell_type": "markdown",
   "metadata": {
    "id": "48IjaOuDJY_V"
   },
   "source": [
    "### **Question 11:** The company has decided to give 20% discount vouchers to the top 3 most frequent customers. Find the IDs of these customers and the number of orders they placed"
   ]
  },
  {
   "cell_type": "code",
   "execution_count": 67,
   "metadata": {
    "colab": {
     "base_uri": "https://localhost:8080/"
    },
    "executionInfo": {
     "elapsed": 245,
     "status": "ok",
     "timestamp": 1718635527068,
     "user": {
      "displayName": "Anusha Sthanam",
      "userId": "09220688031413898614"
     },
     "user_tz": 240
    },
    "id": "Hz8-DE4Zge0j",
    "outputId": "3aa54f54-6838-496d-fc8d-44a2c7278abb"
   },
   "outputs": [
    {
     "data": {
      "text/plain": [
       "customer_id\n",
       "52832    13\n",
       "47440    10\n",
       "83287     9\n",
       "Name: count, dtype: int64"
      ]
     },
     "execution_count": 67,
     "metadata": {},
     "output_type": "execute_result"
    }
   ],
   "source": [
    "# Find the top 3 most frequent customers.\n",
    "df['customer_id'].value_counts().head(3)"
   ]
  },
  {
   "cell_type": "markdown",
   "metadata": {
    "id": "9tWVwfX6JY_V"
   },
   "source": [
    "**Observations:**\n",
    "\n",
    "The following customers are eligble for the discount vouchers\n",
    "\n",
    "*   The customer with customer_id - 52832 has placed 13 orders\n",
    "*   The customer with customer_id - 47440 has placed 10 orders\n",
    "*   The customer with customer_id - 83287 has placed 9 orders\n",
    "\n",
    "\n"
   ]
  },
  {
   "cell_type": "markdown",
   "metadata": {
    "id": "AfIc2jPaJY_V"
   },
   "source": [
    "### Multivariate Analysis"
   ]
  },
  {
   "cell_type": "markdown",
   "metadata": {
    "id": "iqiS0RT_JY_V"
   },
   "source": [
    "### **Question 12**: Perform a multivariate analysis to explore relationships between the important variables in the dataset. (It is a good idea to explore relations between numerical variables as well as relations between numerical and categorical variables)"
   ]
  },
  {
   "cell_type": "code",
   "execution_count": 71,
   "metadata": {
    "colab": {
     "base_uri": "https://localhost:8080/",
     "height": 613
    },
    "executionInfo": {
     "elapsed": 2601,
     "status": "ok",
     "timestamp": 1718637193915,
     "user": {
      "displayName": "Anusha Sthanam",
      "userId": "09220688031413898614"
     },
     "user_tz": 240
    },
    "id": "3qt4MCNTJY_V",
    "outputId": "0c66b799-498e-4fb9-df0e-364d0252b392"
   },
   "outputs": [
    {
     "data": {
      "text/plain": [
       "<Figure size 1500x700 with 0 Axes>"
      ]
     },
     "metadata": {},
     "output_type": "display_data"
    },
    {
     "data": {
      "image/png": "[encoded data removed]",
      "text/plain": [
       "<Figure size 1000x500 with 2 Axes>"
      ]
     },
     "metadata": {},
     "output_type": "display_data"
    }
   ],
   "source": [
    "# Find the relationship between Cost of the order and Cuisine type\n",
    "plt.figure(figsize=(15,7))\n",
    "my_plot = sns.catplot(data=df,x='cuisine_type',y='cost_of_the_order', col='day_of_the_week', kind='bar', color='teal')\n",
    "my_plot.set_xticklabels(rotation=90)\n",
    "plt.show()"
   ]
  },
  {
   "cell_type": "markdown",
   "metadata": {
    "id": "MQNolYGXw0ok"
   },
   "source": [
    "**Observations**\n",
    "*   Most of the cuisines have lesser costs over the weekdays.\n",
    "*   French cuisines have more cost on the weekdays.\n",
    "\n",
    "\n"
   ]
  },
  {
   "cell_type": "code",
   "execution_count": 73,
   "metadata": {
    "colab": {
     "base_uri": "https://localhost:8080/",
     "height": 539
    },
    "executionInfo": {
     "elapsed": 794,
     "status": "ok",
     "timestamp": 1718637702380,
     "user": {
      "displayName": "Anusha Sthanam",
      "userId": "09220688031413898614"
     },
     "user_tz": 240
    },
    "id": "ehUnQ95ATu1K",
    "outputId": "e78c3c8d-d6f2-4828-824f-c644ad31223d"
   },
   "outputs": [
    {
     "data": {
      "image/png": "[encoded data removed]",
      "text/plain": [
       "<Figure size 640x480 with 1 Axes>"
      ]
     },
     "metadata": {},
     "output_type": "display_data"
    }
   ],
   "source": [
    "#Cuisine Type vs Preparation time\n",
    "sns.boxplot(data=df,x='cuisine_type',y='food_preparation_time')\n",
    "plt.xticks(rotation=90)\n",
    "plt.show()"
   ]
  },
  {
   "cell_type": "markdown",
   "metadata": {
    "id": "jFW1cEkMyrqN"
   },
   "source": [
    "**Observations**\n",
    "\n",
    "*   Korean cuisine have outliers in the maximum range.\n",
    "*   Italian and Thai cuisines have around 28 mins of median food preparation time.\n",
    "\n"
   ]
  },
  {
   "cell_type": "code",
   "execution_count": 75,
   "metadata": {
    "colab": {
     "base_uri": "https://localhost:8080/",
     "height": 554
    },
    "executionInfo": {
     "elapsed": 683,
     "status": "ok",
     "timestamp": 1718637950114,
     "user": {
      "displayName": "Anusha Sthanam",
      "userId": "09220688031413898614"
     },
     "user_tz": 240
    },
    "id": "QJQgLdzqUIMj",
    "outputId": "af587c1c-ca0d-4c7a-b3b2-82b8338bed2f"
   },
   "outputs": [
    {
     "data": {
      "image/png": "[encoded data removed]",
      "text/plain": [
       "<Figure size 1200x500 with 1 Axes>"
      ]
     },
     "metadata": {},
     "output_type": "display_data"
    }
   ],
   "source": [
    "#Cuisine Type vs Delivery time\n",
    "plt.figure(figsize=(12,5))\n",
    "sns.boxplot(data=df,x='cuisine_type',y='delivery_time')\n",
    "plt.xticks(rotation=90)\n",
    "plt.show()"
   ]
  },
  {
   "cell_type": "markdown",
   "metadata": {
    "id": "OfXc4XNyWoHs"
   },
   "source": [
    "**Observations**\n",
    "\n",
    "*   Korean Cuisine takes least median delivery time\n",
    "*   French Cuisine takes highest median delivery time\n",
    "*   Japanese, Mexican, American and Indian take approximately same median delivery time i.e 25 mins.\n",
    "\n"
   ]
  },
  {
   "cell_type": "code",
   "execution_count": 77,
   "metadata": {
    "colab": {
     "base_uri": "https://localhost:8080/",
     "height": 450
    },
    "executionInfo": {
     "elapsed": 906,
     "status": "ok",
     "timestamp": 1718638024495,
     "user": {
      "displayName": "Anusha Sthanam",
      "userId": "09220688031413898614"
     },
     "user_tz": 240
    },
    "id": "9ujbxf8vUmqV",
    "outputId": "cdbbc926-82c1-4a3c-9641-027df871617c"
   },
   "outputs": [
    {
     "data": {
      "image/png": "[encoded data removed]",
      "text/plain": [
       "<Figure size 640x480 with 1 Axes>"
      ]
     },
     "metadata": {},
     "output_type": "display_data"
    }
   ],
   "source": [
    "#cost_of_order vs days_of_week\n",
    "sns.boxplot(data=df,y='day_of_the_week',x='cost_of_the_order')\n",
    "plt.show()"
   ]
  },
  {
   "cell_type": "markdown",
   "metadata": {
    "id": "AilhCd8kVVTP"
   },
   "source": [
    "**Observations**\n",
    " We dont have significant data to support the costs for weekend and Weekdays, using this plot.\n",
    "\n"
   ]
  },
  {
   "cell_type": "code",
   "execution_count": 79,
   "metadata": {
    "colab": {
     "base_uri": "https://localhost:8080/",
     "height": 579
    },
    "executionInfo": {
     "elapsed": 623,
     "status": "ok",
     "timestamp": 1718571002467,
     "user": {
      "displayName": "Anusha Sthanam",
      "userId": "09220688031413898614"
     },
     "user_tz": 240
    },
    "id": "pzPFSqeTZoZF",
    "outputId": "1afd276f-5897-442a-dc24-fe931498c52f",
    "scrolled": true
   },
   "outputs": [
    {
     "data": {
      "image/png": "[encoded data removed]",
      "text/plain": [
       "<Figure size 640x480 with 2 Axes>"
      ]
     },
     "metadata": {},
     "output_type": "display_data"
    }
   ],
   "source": [
    "#Lets examine the correlation between cuisine type, cost and days of the week using heat map.\n",
    "sns.heatmap(df[['cost_of_the_order','food_preparation_time','delivery_time']].corr(), annot=True);\n",
    "plt.show()"
   ]
  },
  {
   "cell_type": "markdown",
   "metadata": {
    "id": "WfL3bW1y0G1K"
   },
   "source": [
    "**Observations:**\n",
    "\n",
    "*   There is little positive correlation between cost of the order and food preparation time\n",
    "*   there is negative relation between cost of the order and delivery time.\n",
    "\n"
   ]
  },
  {
   "cell_type": "code",
   "execution_count": 81,
   "metadata": {},
   "outputs": [
    {
     "data": {
      "image/png": "[encoded data removed]",
      "text/plain": [
       "<Figure size 640x480 with 2 Axes>"
      ]
     },
     "metadata": {},
     "output_type": "display_data"
    }
   ],
   "source": [
    "df_rated = df[df['rating'] != 'Not given'].copy()\n",
    "# Convert rating column from object to integer\n",
    "df_rated['rating'] = df_rated['rating'].astype('int')\n",
    "#Lets examine the correlation between rating, cuisine type, cost days of the week using heat map.\n",
    "sns.heatmap(data=df_rated[['rating','cost_of_the_order','food_preparation_time','delivery_time']].corr(), annot=True, cmap='YlGnBu')\n",
    "plt.show()"
   ]
  },
  {
   "cell_type": "markdown",
   "metadata": {},
   "source": [
    "# Observations:\n",
    "There is positive relation between rating and the cost of the order."
   ]
  },
  {
   "cell_type": "markdown",
   "metadata": {
    "id": "YLkMf09YJY_V"
   },
   "source": [
    "### **Question 13:** The company wants to provide a promotional offer in the advertisement of the restaurants. The condition to get the offer is that the restaurants must have a rating count of more than 50 and the average rating should be greater than 4. Find the restaurants fulfilling the criteria to get the promotional offer"
   ]
  },
  {
   "cell_type": "code",
   "execution_count": 84,
   "metadata": {
    "colab": {
     "base_uri": "https://localhost:8080/",
     "height": 206
    },
    "executionInfo": {
     "elapsed": 201,
     "status": "ok",
     "timestamp": 1718640272022,
     "user": {
      "displayName": "Anusha Sthanam",
      "userId": "09220688031413898614"
     },
     "user_tz": 240
    },
    "id": "mPDyxgIU5H2P",
    "outputId": "a0dcdde9-372e-4eb4-bf93-0ceffe2d91ec"
   },
   "outputs": [
    {
     "data": {
      "text/html": [
       "<div>\n",
       "<style scoped>\n",
       "    .dataframe tbody tr th:only-of-type {\n",
       "        vertical-align: middle;\n",
       "    }\n",
       "\n",
       "    .dataframe tbody tr th {\n",
       "        vertical-align: top;\n",
       "    }\n",
       "\n",
       "    .dataframe thead th {\n",
       "        text-align: right;\n",
       "    }\n",
       "</style>\n",
       "<table border=\"1\" class=\"dataframe\">\n",
       "  <thead>\n",
       "    <tr style=\"text-align: right;\">\n",
       "      <th></th>\n",
       "      <th>restaurant_name</th>\n",
       "      <th>rating</th>\n",
       "    </tr>\n",
       "  </thead>\n",
       "  <tbody>\n",
       "    <tr>\n",
       "      <th>0</th>\n",
       "      <td>Shake Shack</td>\n",
       "      <td>133</td>\n",
       "    </tr>\n",
       "    <tr>\n",
       "      <th>1</th>\n",
       "      <td>The Meatball Shop</td>\n",
       "      <td>84</td>\n",
       "    </tr>\n",
       "    <tr>\n",
       "      <th>2</th>\n",
       "      <td>Blue Ribbon Sushi</td>\n",
       "      <td>73</td>\n",
       "    </tr>\n",
       "    <tr>\n",
       "      <th>3</th>\n",
       "      <td>Blue Ribbon Fried Chicken</td>\n",
       "      <td>64</td>\n",
       "    </tr>\n",
       "    <tr>\n",
       "      <th>4</th>\n",
       "      <td>RedFarm Broadway</td>\n",
       "      <td>41</td>\n",
       "    </tr>\n",
       "  </tbody>\n",
       "</table>\n",
       "</div>"
      ],
      "text/plain": [
       "             restaurant_name  rating\n",
       "0                Shake Shack     133\n",
       "1          The Meatball Shop      84\n",
       "2          Blue Ribbon Sushi      73\n",
       "3  Blue Ribbon Fried Chicken      64\n",
       "4           RedFarm Broadway      41"
      ]
     },
     "execution_count": 84,
     "metadata": {},
     "output_type": "execute_result"
    }
   ],
   "source": [
    "df_rated = df[df['rating'] != 'Not given'].copy()\n",
    "\n",
    "# Convert rating column from object to integer\n",
    "df_rated['rating'] = df_rated['rating'].astype('int')\n",
    "\n",
    "# Create a dataframe that contains the restaurant names with their rating counts\n",
    "df_rating_count = df_rated.groupby(['restaurant_name'])['rating'].count().sort_values(ascending = False).reset_index()\n",
    "df_rating_count.head()\n"
   ]
  },
  {
   "cell_type": "code",
   "execution_count": 85,
   "metadata": {
    "colab": {
     "base_uri": "https://localhost:8080/",
     "height": 174
    },
    "executionInfo": {
     "elapsed": 223,
     "status": "ok",
     "timestamp": 1718640278085,
     "user": {
      "displayName": "Anusha Sthanam",
      "userId": "09220688031413898614"
     },
     "user_tz": 240
    },
    "id": "40yOkUYn5PRB",
    "outputId": "72b79864-406b-42f6-a283-66aa92cd85da"
   },
   "outputs": [
    {
     "data": {
      "text/html": [
       "<div>\n",
       "<style scoped>\n",
       "    .dataframe tbody tr th:only-of-type {\n",
       "        vertical-align: middle;\n",
       "    }\n",
       "\n",
       "    .dataframe tbody tr th {\n",
       "        vertical-align: top;\n",
       "    }\n",
       "\n",
       "    .dataframe thead th {\n",
       "        text-align: right;\n",
       "    }\n",
       "</style>\n",
       "<table border=\"1\" class=\"dataframe\">\n",
       "  <thead>\n",
       "    <tr style=\"text-align: right;\">\n",
       "      <th></th>\n",
       "      <th>restaurant_name</th>\n",
       "      <th>rating</th>\n",
       "    </tr>\n",
       "  </thead>\n",
       "  <tbody>\n",
       "    <tr>\n",
       "      <th>0</th>\n",
       "      <td>The Meatball Shop</td>\n",
       "      <td>4.511905</td>\n",
       "    </tr>\n",
       "    <tr>\n",
       "      <th>1</th>\n",
       "      <td>Blue Ribbon Fried Chicken</td>\n",
       "      <td>4.328125</td>\n",
       "    </tr>\n",
       "    <tr>\n",
       "      <th>2</th>\n",
       "      <td>Shake Shack</td>\n",
       "      <td>4.278195</td>\n",
       "    </tr>\n",
       "    <tr>\n",
       "      <th>3</th>\n",
       "      <td>Blue Ribbon Sushi</td>\n",
       "      <td>4.219178</td>\n",
       "    </tr>\n",
       "  </tbody>\n",
       "</table>\n",
       "</div>"
      ],
      "text/plain": [
       "             restaurant_name    rating\n",
       "0          The Meatball Shop  4.511905\n",
       "1  Blue Ribbon Fried Chicken  4.328125\n",
       "2                Shake Shack  4.278195\n",
       "3          Blue Ribbon Sushi  4.219178"
      ]
     },
     "execution_count": 85,
     "metadata": {},
     "output_type": "execute_result"
    }
   ],
   "source": [
    "rest_names = df_rating_count[df_rating_count['rating'] > 50]['restaurant_name'] ## Complete the code to get the restaurant names having rating count more than 50\n",
    "\n",
    "# Filter to get the data of restaurants that have rating count more than 50\n",
    "df_mean_4 = df_rated[df_rated['restaurant_name'].isin(rest_names)].copy()\n",
    "df_mean_4\n",
    "# Group the restaurant names with their ratings and find the mean rating of each restaurant\n",
    "df_mean_4.groupby(['restaurant_name'])['rating'].mean().sort_values(ascending = False).reset_index().dropna() ## Complete the code to find the mean rating\n"
   ]
  },
  {
   "cell_type": "markdown",
   "metadata": {
    "id": "10uryUMhJY_V"
   },
   "source": [
    "#### Observations:\n",
    "\n",
    "*   Shake Shack restaurant has 133 ratings and average of 4.2\n",
    "*   The Meatball Shop has 84 ratings and average of 4.5 rating.\n",
    "*   Blue Ribbon Sushi has 73 ratins and average of 4.2 rating.\n",
    "*   Blue Ribbon Fried Chicken has 64 ratings and average of 4.3 rating.\n",
    "*   RedFarm Broadway has 41 ratings.\n",
    "\n"
   ]
  },
  {
   "cell_type": "markdown",
   "metadata": {
    "id": "1gvWBkRUJY_V"
   },
   "source": [
    "### **Question 14:** The company charges the restaurant 25% on the orders having cost greater than 20 dollars and 15% on the orders having cost greater than 5 dollars. Find the net revenue generated by the company across all orders"
   ]
  },
  {
   "cell_type": "code",
   "execution_count": 88,
   "metadata": {
    "colab": {
     "base_uri": "https://localhost:8080/",
     "height": 295
    },
    "executionInfo": {
     "elapsed": 248,
     "status": "ok",
     "timestamp": 1718631624012,
     "user": {
      "displayName": "Anusha Sthanam",
      "userId": "09220688031413898614"
     },
     "user_tz": 240
    },
    "id": "EyYOp4B6_xvv",
    "outputId": "53b4ae06-f35d-4a0a-f322-f57713c41d09"
   },
   "outputs": [
    {
     "name": "stdout",
     "output_type": "stream",
     "text": [
      "The total revenue is  6166.303\n"
     ]
    },
    {
     "data": {
      "text/html": [
       "<div>\n",
       "<style scoped>\n",
       "    .dataframe tbody tr th:only-of-type {\n",
       "        vertical-align: middle;\n",
       "    }\n",
       "\n",
       "    .dataframe tbody tr th {\n",
       "        vertical-align: top;\n",
       "    }\n",
       "\n",
       "    .dataframe thead th {\n",
       "        text-align: right;\n",
       "    }\n",
       "</style>\n",
       "<table border=\"1\" class=\"dataframe\">\n",
       "  <thead>\n",
       "    <tr style=\"text-align: right;\">\n",
       "      <th></th>\n",
       "      <th>index</th>\n",
       "      <th>order_id</th>\n",
       "      <th>customer_id</th>\n",
       "      <th>restaurant_name</th>\n",
       "      <th>cuisine_type</th>\n",
       "      <th>cost_of_the_order</th>\n",
       "      <th>day_of_the_week</th>\n",
       "      <th>rating</th>\n",
       "      <th>food_preparation_time</th>\n",
       "      <th>delivery_time</th>\n",
       "      <th>revenue</th>\n",
       "    </tr>\n",
       "  </thead>\n",
       "  <tbody>\n",
       "    <tr>\n",
       "      <th>0</th>\n",
       "      <td>0</td>\n",
       "      <td>1477147</td>\n",
       "      <td>337525</td>\n",
       "      <td>Hangawi</td>\n",
       "      <td>Korean</td>\n",
       "      <td>30.75</td>\n",
       "      <td>Weekend</td>\n",
       "      <td>Not given</td>\n",
       "      <td>25</td>\n",
       "      <td>20</td>\n",
       "      <td>7.6875</td>\n",
       "    </tr>\n",
       "    <tr>\n",
       "      <th>1</th>\n",
       "      <td>1</td>\n",
       "      <td>1477685</td>\n",
       "      <td>358141</td>\n",
       "      <td>Blue Ribbon Sushi Izakaya</td>\n",
       "      <td>Japanese</td>\n",
       "      <td>12.08</td>\n",
       "      <td>Weekend</td>\n",
       "      <td>Not given</td>\n",
       "      <td>25</td>\n",
       "      <td>23</td>\n",
       "      <td>1.8120</td>\n",
       "    </tr>\n",
       "    <tr>\n",
       "      <th>2</th>\n",
       "      <td>2</td>\n",
       "      <td>1477070</td>\n",
       "      <td>66393</td>\n",
       "      <td>Cafe Habana</td>\n",
       "      <td>Mexican</td>\n",
       "      <td>12.23</td>\n",
       "      <td>Weekday</td>\n",
       "      <td>5</td>\n",
       "      <td>23</td>\n",
       "      <td>28</td>\n",
       "      <td>1.8345</td>\n",
       "    </tr>\n",
       "    <tr>\n",
       "      <th>3</th>\n",
       "      <td>3</td>\n",
       "      <td>1477334</td>\n",
       "      <td>106968</td>\n",
       "      <td>Blue Ribbon Fried Chicken</td>\n",
       "      <td>American</td>\n",
       "      <td>29.20</td>\n",
       "      <td>Weekend</td>\n",
       "      <td>3</td>\n",
       "      <td>25</td>\n",
       "      <td>15</td>\n",
       "      <td>7.3000</td>\n",
       "    </tr>\n",
       "    <tr>\n",
       "      <th>4</th>\n",
       "      <td>4</td>\n",
       "      <td>1478249</td>\n",
       "      <td>76942</td>\n",
       "      <td>Dirty Bird to Go</td>\n",
       "      <td>American</td>\n",
       "      <td>11.59</td>\n",
       "      <td>Weekday</td>\n",
       "      <td>4</td>\n",
       "      <td>25</td>\n",
       "      <td>24</td>\n",
       "      <td>1.7385</td>\n",
       "    </tr>\n",
       "  </tbody>\n",
       "</table>\n",
       "</div>"
      ],
      "text/plain": [
       "   index  order_id  customer_id            restaurant_name cuisine_type  \\\n",
       "0      0   1477147       337525                    Hangawi       Korean   \n",
       "1      1   1477685       358141  Blue Ribbon Sushi Izakaya     Japanese   \n",
       "2      2   1477070        66393                Cafe Habana      Mexican   \n",
       "3      3   1477334       106968  Blue Ribbon Fried Chicken     American   \n",
       "4      4   1478249        76942           Dirty Bird to Go     American   \n",
       "\n",
       "   cost_of_the_order day_of_the_week     rating  food_preparation_time  \\\n",
       "0              30.75         Weekend  Not given                     25   \n",
       "1              12.08         Weekend  Not given                     25   \n",
       "2              12.23         Weekday          5                     23   \n",
       "3              29.20         Weekend          3                     25   \n",
       "4              11.59         Weekday          4                     25   \n",
       "\n",
       "   delivery_time  revenue  \n",
       "0             20   7.6875  \n",
       "1             23   1.8120  \n",
       "2             28   1.8345  \n",
       "3             15   7.3000  \n",
       "4             24   1.7385  "
      ]
     },
     "execution_count": 88,
     "metadata": {},
     "output_type": "execute_result"
    }
   ],
   "source": [
    "def revenue_generated(cost):\n",
    "  if cost > 20:\n",
    "    return cost*0.25\n",
    "  elif cost > 5:\n",
    "    return cost*0.15\n",
    "  else:\n",
    "    return cost*0\n",
    "\n",
    "df['revenue'] = df['cost_of_the_order'].apply(revenue_generated)\n",
    "print('The total revenue is ', df['revenue'].sum())\n",
    "df.reset_index(inplace=True)\n",
    "df.head()"
   ]
  },
  {
   "cell_type": "code",
   "execution_count": 89,
   "metadata": {
    "colab": {
     "base_uri": "https://localhost:8080/",
     "height": 278
    },
    "executionInfo": {
     "elapsed": 16,
     "status": "ok",
     "timestamp": 1718557393948,
     "user": {
      "displayName": "Anusha Sthanam",
      "userId": "09220688031413898614"
     },
     "user_tz": 240
    },
    "id": "pCkX8uSKs0Ln",
    "outputId": "917d344f-d1c0-4be3-dd87-16d2a1199289"
   },
   "outputs": [
    {
     "data": {
      "text/html": [
       "<div>\n",
       "<style scoped>\n",
       "    .dataframe tbody tr th:only-of-type {\n",
       "        vertical-align: middle;\n",
       "    }\n",
       "\n",
       "    .dataframe tbody tr th {\n",
       "        vertical-align: top;\n",
       "    }\n",
       "\n",
       "    .dataframe thead th {\n",
       "        text-align: right;\n",
       "    }\n",
       "</style>\n",
       "<table border=\"1\" class=\"dataframe\">\n",
       "  <thead>\n",
       "    <tr style=\"text-align: right;\">\n",
       "      <th></th>\n",
       "      <th>index</th>\n",
       "      <th>order_id</th>\n",
       "      <th>customer_id</th>\n",
       "      <th>restaurant_name</th>\n",
       "      <th>cuisine_type</th>\n",
       "      <th>cost_of_the_order</th>\n",
       "      <th>day_of_the_week</th>\n",
       "      <th>rating</th>\n",
       "      <th>food_preparation_time</th>\n",
       "      <th>delivery_time</th>\n",
       "      <th>revenue</th>\n",
       "    </tr>\n",
       "  </thead>\n",
       "  <tbody>\n",
       "    <tr>\n",
       "      <th>0</th>\n",
       "      <td>0</td>\n",
       "      <td>1477147</td>\n",
       "      <td>337525</td>\n",
       "      <td>Hangawi</td>\n",
       "      <td>Korean</td>\n",
       "      <td>30.75</td>\n",
       "      <td>Weekend</td>\n",
       "      <td>Not given</td>\n",
       "      <td>25</td>\n",
       "      <td>20</td>\n",
       "      <td>7.6875</td>\n",
       "    </tr>\n",
       "    <tr>\n",
       "      <th>1</th>\n",
       "      <td>1</td>\n",
       "      <td>1477685</td>\n",
       "      <td>358141</td>\n",
       "      <td>Blue Ribbon Sushi Izakaya</td>\n",
       "      <td>Japanese</td>\n",
       "      <td>12.08</td>\n",
       "      <td>Weekend</td>\n",
       "      <td>Not given</td>\n",
       "      <td>25</td>\n",
       "      <td>23</td>\n",
       "      <td>1.8120</td>\n",
       "    </tr>\n",
       "    <tr>\n",
       "      <th>2</th>\n",
       "      <td>2</td>\n",
       "      <td>1477070</td>\n",
       "      <td>66393</td>\n",
       "      <td>Cafe Habana</td>\n",
       "      <td>Mexican</td>\n",
       "      <td>12.23</td>\n",
       "      <td>Weekday</td>\n",
       "      <td>5</td>\n",
       "      <td>23</td>\n",
       "      <td>28</td>\n",
       "      <td>1.8345</td>\n",
       "    </tr>\n",
       "    <tr>\n",
       "      <th>3</th>\n",
       "      <td>3</td>\n",
       "      <td>1477334</td>\n",
       "      <td>106968</td>\n",
       "      <td>Blue Ribbon Fried Chicken</td>\n",
       "      <td>American</td>\n",
       "      <td>29.20</td>\n",
       "      <td>Weekend</td>\n",
       "      <td>3</td>\n",
       "      <td>25</td>\n",
       "      <td>15</td>\n",
       "      <td>7.3000</td>\n",
       "    </tr>\n",
       "    <tr>\n",
       "      <th>4</th>\n",
       "      <td>4</td>\n",
       "      <td>1478249</td>\n",
       "      <td>76942</td>\n",
       "      <td>Dirty Bird to Go</td>\n",
       "      <td>American</td>\n",
       "      <td>11.59</td>\n",
       "      <td>Weekday</td>\n",
       "      <td>4</td>\n",
       "      <td>25</td>\n",
       "      <td>24</td>\n",
       "      <td>1.7385</td>\n",
       "    </tr>\n",
       "  </tbody>\n",
       "</table>\n",
       "</div>"
      ],
      "text/plain": [
       "   index  order_id  customer_id            restaurant_name cuisine_type  \\\n",
       "0      0   1477147       337525                    Hangawi       Korean   \n",
       "1      1   1477685       358141  Blue Ribbon Sushi Izakaya     Japanese   \n",
       "2      2   1477070        66393                Cafe Habana      Mexican   \n",
       "3      3   1477334       106968  Blue Ribbon Fried Chicken     American   \n",
       "4      4   1478249        76942           Dirty Bird to Go     American   \n",
       "\n",
       "   cost_of_the_order day_of_the_week     rating  food_preparation_time  \\\n",
       "0              30.75         Weekend  Not given                     25   \n",
       "1              12.08         Weekend  Not given                     25   \n",
       "2              12.23         Weekday          5                     23   \n",
       "3              29.20         Weekend          3                     25   \n",
       "4              11.59         Weekday          4                     25   \n",
       "\n",
       "   delivery_time  revenue  \n",
       "0             20   7.6875  \n",
       "1             23   1.8120  \n",
       "2             28   1.8345  \n",
       "3             15   7.3000  \n",
       "4             24   1.7385  "
      ]
     },
     "execution_count": 89,
     "metadata": {},
     "output_type": "execute_result"
    }
   ],
   "source": [
    "df.head()"
   ]
  },
  {
   "cell_type": "markdown",
   "metadata": {
    "id": "XHCEJgH0JY_W"
   },
   "source": [
    "#### Observations:\n",
    "\n",
    "The total net revenue generated by the company is  6166.303$"
   ]
  },
  {
   "cell_type": "markdown",
   "metadata": {
    "id": "pRlVW-oeJY_W"
   },
   "source": [
    "### **Question 15:** The company wants to analyze the total time required to deliver the food. What percentage of orders take more than 60 minutes to get delivered from the time the order is placed? (The food has to be prepared and then delivered)"
   ]
  },
  {
   "cell_type": "code",
   "execution_count": 92,
   "metadata": {
    "colab": {
     "base_uri": "https://localhost:8080/"
    },
    "executionInfo": {
     "elapsed": 14,
     "status": "ok",
     "timestamp": 1718557393948,
     "user": {
      "displayName": "Anusha Sthanam",
      "userId": "09220688031413898614"
     },
     "user_tz": 240
    },
    "id": "zxoTrxfLJY_W",
    "outputId": "ec30e075-5b50-4849-8f4e-32d1382675b0"
   },
   "outputs": [
    {
     "data": {
      "text/plain": [
       "10.537407797681771"
      ]
     },
     "execution_count": 92,
     "metadata": {},
     "output_type": "execute_result"
    }
   ],
   "source": [
    "# Find the time taken to prepare and deliver the food\n",
    "df['food_preparation_time'] = df['food_preparation_time'].astype(int)\n",
    "df['delivery_time'] = df['delivery_time'].astype(int)\n",
    "df['total_time'] = df['food_preparation_time'] + df['delivery_time']\n",
    "orders_above_60 = df[df['total_time'] > 60]\n",
    "orders_above_60.shape[0]/df.shape[0]*100"
   ]
  },
  {
   "cell_type": "markdown",
   "metadata": {
    "id": "iqzBXn2yJY_W"
   },
   "source": [
    "#### Observations:\n",
    "10.53% of orders take more than 60 mins to deliver the orders from the time, it is placed."
   ]
  },
  {
   "cell_type": "markdown",
   "metadata": {
    "id": "bUd6cYpPJY_W"
   },
   "source": [
    "### **Question 16:** The company wants to analyze the delivery time of the orders on weekdays and weekends. How does the mean delivery time vary during weekdays and weekends?"
   ]
  },
  {
   "cell_type": "code",
   "execution_count": 95,
   "metadata": {
    "colab": {
     "base_uri": "https://localhost:8080/",
     "height": 450
    },
    "executionInfo": {
     "elapsed": 816,
     "status": "ok",
     "timestamp": 1718631764288,
     "user": {
      "displayName": "Anusha Sthanam",
      "userId": "09220688031413898614"
     },
     "user_tz": 240
    },
    "id": "8Nu0wnSab1x4",
    "outputId": "c1dc53e1-34f1-4691-88a0-aff2d07c418d"
   },
   "outputs": [
    {
     "data": {
      "image/png": "[encoded data removed]",
      "text/plain": [
       "<Figure size 640x480 with 1 Axes>"
      ]
     },
     "metadata": {},
     "output_type": "display_data"
    }
   ],
   "source": [
    "sns.boxplot(data=df,x='day_of_the_week',y='delivery_time')\n",
    "plt.show()"
   ]
  },
  {
   "cell_type": "code",
   "execution_count": 96,
   "metadata": {
    "colab": {
     "base_uri": "https://localhost:8080/"
    },
    "executionInfo": {
     "elapsed": 176,
     "status": "ok",
     "timestamp": 1718557394113,
     "user": {
      "displayName": "Anusha Sthanam",
      "userId": "09220688031413898614"
     },
     "user_tz": 240
    },
    "id": "pIU5xZZ6JY_W",
    "outputId": "ab0feea2-80c5-4e9d-f9a4-ffc7ac73c138"
   },
   "outputs": [
    {
     "name": "stdout",
     "output_type": "stream",
     "text": [
      "The mean delivery time for weekdays is 28.340036563071298 mins.\n",
      "The mean delivery time for weekends is 22.4700222057735 mins.\n"
     ]
    }
   ],
   "source": [
    "df['weekday_delivery_time'] = df['delivery_time'][df['day_of_the_week'] == 'Weekday']\n",
    "df['weekend_delivery_time'] = df['delivery_time'][df['day_of_the_week'] == 'Weekend']\n",
    "print('The mean delivery time for weekdays is', df['weekday_delivery_time'].mean(), 'mins.')\n",
    "print('The mean delivery time for weekends is', df['weekend_delivery_time'].mean(), 'mins.')"
   ]
  },
  {
   "cell_type": "markdown",
   "metadata": {
    "id": "8H-ODxbVJY_W"
   },
   "source": [
    "#### Observations:\n",
    "The average delivery time over weekdays is more than weekend."
   ]
  },
  {
   "cell_type": "markdown",
   "metadata": {
    "id": "17roJywaJY_W"
   },
   "source": [
    "### Conclusion and Recommendations"
   ]
  },
  {
   "cell_type": "markdown",
   "metadata": {
    "id": "ZdX2Wz4FJY_W"
   },
   "source": [
    "### **Question 17:** What are your conclusions from the analysis? What recommendations would you like to share to help improve the business? (You can use cuisine type and feedback ratings to drive your business recommendations)"
   ]
  },
  {
   "cell_type": "markdown",
   "metadata": {
    "id": "VTugVsL4Ddz-"
   },
   "source": [
    "### Conclusions:\n",
    "I made the following conclusions based on the data.\n",
    "\n",
    "1. There are 5 numerical columns in the data and 4 object type columns in the Dataset with 1898 rows and\n",
    "2. There are no missing data or null values in the data except for no ratings for some orders.\n",
    "3. The minimum time, it takes to prepare the food is 20 minutes.\n",
    "4. The average time, it takes to prepare the food is 27 minutes.\n",
    "5. The maximum time, it takes to prepare the food is 35 minutes.\n",
    "6. There is a standard deviation of 5 mins for the food delivery time.\n",
    "7. There are total of 736 orders, which are not given any rating.\n",
    "8. 61% of the customers out of 1200 customers haven't given any ratings.\n",
    "9. There are total of 1898 orders received so far.\n",
    "10.There are total of  14 cuisine types.\n",
    "11. The data for the food preparation time is very uniform and median is at 27 mins.\n",
    "12. The median food delivery time for the orders is 25 mins, 1st quartile and 3rd quartile delivery times are 20 and 28 mins respectively.\n",
    "13. The median cost of the order is 14 dollars.\n",
    "14. It clearly signifies that there are more orders over the weekend than the weekday\n",
    "15. Most of the cuisines have more orders over the weekends.\n",
    "16. American, Japanese, Italian and Chinese are the most popular cuisines over the weekends as well as weekdays and American cuisine is the most popular of all.\n",
    "17. The percentage of orders, costing more than 20 dollars is 29.24 %\n",
    "18. The average delivery time for the orders is 24.16 mins.\n",
    "19. The customer with customer_id - 52832 has placed maximum of 13 orders.\n",
    "20. Most of the cuisines have lesser costs over the weekdays.\n",
    "21. French cuisines have more cost on the weekdays and highest median delivery times.\n",
    "22. Italian and Thai cuisines have around 28 mins of median food preparation time.\n",
    "23. Shake Shack restaurant has 133 ratings and an average of 4.2\n",
    "24. The Meatball Shop has 84 ratings and an average of 4.5 rating.\n",
    "25. Blue Ribbon Sushi has 73 ratings and an average of 4.2 rating.\n",
    "26. Blue Ribbon Fried Chicken has 64 ratings and an average of 4.3 rating.\n",
    "27. RedFarm Broadway has 41 ratings.\n",
    "28. The total net revenue generated by the company is 6166.303$\n",
    "29. 10.53% of orders take more than 60 mins to deliver the orders from the time, it is placed.\n",
    "30. The average delivery time over weekdays is more than weekends.\n",
    "31. There is a positive relation between rating and the cost of the order.\n",
    "\n",
    "\n",
    "\n",
    "\n"
   ]
  },
  {
   "cell_type": "markdown",
   "metadata": {
    "id": "PWnsI0i_guWJ"
   },
   "source": [
    "### Recommendations:\n",
    "\n",
    "*  There is room for improvement in delivery times for any day. This can be done by increasing the transport facility and no of drivers availability in the most rated and popular cuisines.\n",
    "*  Many customers have not provided a rating for the service provided and proper investigation is needed on why they haven't provided one the rating definitely impacts the future revenue generation and sales.\n",
    "*  There are many incentives like extra coupons or discounts if the ratings are given.\n",
    "* Many incentives like future discounts to be given for any referrals or recommendations provided by the customers.\n",
    "*  Add promotional offers to be provided for the most reliable customers for additional orders so we can generate more revenue.\n",
    "*  As most cuisines have lower rates on weekdays, we need to promote it well by sending text messages or email notifications, so the customers are well noticed about it.\n",
    "*  The coupons should be given with the date range, so customers can avail of that opportunity between those times, to increase sales.\n"
   ]
  },
  {
   "cell_type": "markdown",
   "metadata": {
    "id": "tSoucKKbg9Hc"
   },
   "source": [
    "---"
   ]
  }
 ],
 "metadata": {
  "colab": {
   "collapsed_sections": [
    "MnJo7MWrJY_S",
    "cw3l58z_JY_T",
    "0RHZnugBJY_U",
    "K9CqA5H_JY_U",
    "gWPMqGq0JY_U",
    "88xgTqkxJY_U",
    "HFyHn7hsJY_V",
    "48IjaOuDJY_V"
   ],
   "provenance": []
  },
  "hide_input": false,
  "kernelspec": {
   "display_name": "Python 3 (ipykernel)",
   "language": "python",
   "name": "python3"
  },
  "language_info": {
   "codemirror_mode": {
    "name": "ipython",
    "version": 3
   },
   "file_extension": ".py",
   "mimetype": "text/x-python",
   "name": "python",
   "nbconvert_exporter": "python",
   "pygments_lexer": "ipython3",
   "version": "3.11.7"
  },
  "toc": {
   "base_numbering": 1,
   "nav_menu": {},
   "number_sections": true,
   "sideBar": true,
   "skip_h1_title": false,
   "title_cell": "Table of Contents",
   "title_sidebar": "Contents",
   "toc_cell": false,
   "toc_position": {},
   "toc_section_display": true,
   "toc_window_display": false
  },
  "varInspector": {
   "cols": {
    "lenName": 16,
    "lenType": 16,
    "lenVar": 40
   },
   "kernels_config": {
    "python": {
     "delete_cmd_postfix": "",
     "delete_cmd_prefix": "del ",
     "library": "var_list.py",
     "varRefreshCmd": "print(var_dic_list())"
    },
    "r": {
     "delete_cmd_postfix": ") ",
     "delete_cmd_prefix": "rm(",
     "library": "var_list.r",
     "varRefreshCmd": "cat(var_dic_list()) "
    }
   },
   "types_to_exclude": [
    "module",
    "function",
    "builtin_function_or_method",
    "instance",
    "_Feature"
   ],
   "window_display": false
  }
 },
 "nbformat": 4,
 "nbformat_minor": 4
}
